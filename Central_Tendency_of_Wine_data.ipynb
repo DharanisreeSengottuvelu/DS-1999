{
  "nbformat": 4,
  "nbformat_minor": 0,
  "metadata": {
    "colab": {
      "provenance": [],
      "authorship_tag": "ABX9TyOmQON4Hs27LaBSIGpiPcaG",
      "include_colab_link": true
    },
    "kernelspec": {
      "name": "python3",
      "display_name": "Python 3"
    },
    "language_info": {
      "name": "python"
    }
  },
  "cells": [
    {
      "cell_type": "markdown",
      "metadata": {
        "id": "view-in-github",
        "colab_type": "text"
      },
      "source": [
        "<a href=\"https://colab.research.google.com/github/DharanisreeSengottuvelu/DS-1999/blob/main/Central_Tendency_of_Wine_data.ipynb\" target=\"_parent\"><img src=\"https://colab.research.google.com/assets/colab-badge.svg\" alt=\"Open In Colab\"/></a>"
      ]
    },
    {
      "cell_type": "markdown",
      "source": [
        "# Introduction\n",
        "\n",
        "This Jupyter notebook is a part of your learning experience in the study of central tendency\n",
        "\n",
        "We will work with a simple data set that contains details of Wine quality\n",
        "\n",
        "**In this exercise, we will perform the following tasks:**\n",
        "\n",
        "* Load and study the data\n",
        "\n",
        "* View the distributions of the various features in the data set and calculate their tendancies\n",
        "\n",
        "* Create a new Panda Series that contains the details of the representative factor for quality\n",
        "\n",
        "\n",
        "\n",
        "\n"
      ],
      "metadata": {
        "id": "00gdnSkUQ9eq"
      }
    },
    {
      "cell_type": "markdown",
      "source": [
        "# Task 1 - Load and study the data\n",
        "\n",
        "**Load the data and study its features such as:**\n",
        "\n",
        "fixed acidity\n",
        "\n",
        "volatile acidity\n",
        "\n",
        "citric acid etc,\n"
      ],
      "metadata": {
        "id": "pY0FDnhCR6Jv"
      }
    },
    {
      "cell_type": "code",
      "source": [
        "#Load \"numpy\" and \"pandas\" for manipulating numbers and data frames\n",
        "#Load \"matplotlib.pyplot\" and \"seaborn\" for data visualization\n",
        "\n",
        "import pandas as pd\n",
        "import numpy as py\n",
        "import matplotlib.pyplot as plt\n",
        "import seaborn as sns"
      ],
      "metadata": {
        "id": "gBs9hyKYSlMB"
      },
      "execution_count": 1,
      "outputs": []
    },
    {
      "cell_type": "code",
      "source": [
        "\n",
        "#Read in the \"winequality-white.csv\" file as a pandas DataFrame\n",
        "data = pd.read_csv( '/content/Wine Quality Dataset.csv')"
      ],
      "metadata": {
        "id": "bhgH-xruSt8u"
      },
      "execution_count": 3,
      "outputs": []
    },
    {
      "cell_type": "code",
      "source": [
        "#Take a brief look at the data\n",
        "data.head()"
      ],
      "metadata": {
        "colab": {
          "base_uri": "https://localhost:8080/",
          "height": 206
        },
        "id": "B-LW6C6GTCvH",
        "outputId": "ea9b71c7-6d2a-4e58-ad85-e3830be588fa"
      },
      "execution_count": 4,
      "outputs": [
        {
          "output_type": "execute_result",
          "data": {
            "text/plain": [
              "   fixed acidity  volatile acidity  citric acid  residual sugar  chlorides  \\\n",
              "0            7.0              0.27         0.36            20.7      0.045   \n",
              "1            6.3              0.30         0.34             1.6      0.049   \n",
              "2            8.1              0.28         0.40             6.9      0.050   \n",
              "3            7.2              0.23         0.32             8.5      0.058   \n",
              "4            7.2              0.23         0.32             8.5      0.058   \n",
              "\n",
              "   free sulfur dioxide  total sulfur dioxide  density    pH  sulphates  \\\n",
              "0                 45.0                 170.0   1.0010  3.00       0.45   \n",
              "1                 14.0                 132.0   0.9940  3.30       0.49   \n",
              "2                 30.0                  97.0   0.9951  3.26       0.44   \n",
              "3                 47.0                 186.0   0.9956  3.19       0.40   \n",
              "4                 47.0                 186.0   0.9956  3.19       0.40   \n",
              "\n",
              "   alcohol  quality  \n",
              "0      8.8        6  \n",
              "1      9.5        6  \n",
              "2     10.1        6  \n",
              "3      9.9        6  \n",
              "4      9.9        6  "
            ],
            "text/html": [
              "\n",
              "  <div id=\"df-8a2269f8-4f72-4290-a939-c7db465890cf\" class=\"colab-df-container\">\n",
              "    <div>\n",
              "<style scoped>\n",
              "    .dataframe tbody tr th:only-of-type {\n",
              "        vertical-align: middle;\n",
              "    }\n",
              "\n",
              "    .dataframe tbody tr th {\n",
              "        vertical-align: top;\n",
              "    }\n",
              "\n",
              "    .dataframe thead th {\n",
              "        text-align: right;\n",
              "    }\n",
              "</style>\n",
              "<table border=\"1\" class=\"dataframe\">\n",
              "  <thead>\n",
              "    <tr style=\"text-align: right;\">\n",
              "      <th></th>\n",
              "      <th>fixed acidity</th>\n",
              "      <th>volatile acidity</th>\n",
              "      <th>citric acid</th>\n",
              "      <th>residual sugar</th>\n",
              "      <th>chlorides</th>\n",
              "      <th>free sulfur dioxide</th>\n",
              "      <th>total sulfur dioxide</th>\n",
              "      <th>density</th>\n",
              "      <th>pH</th>\n",
              "      <th>sulphates</th>\n",
              "      <th>alcohol</th>\n",
              "      <th>quality</th>\n",
              "    </tr>\n",
              "  </thead>\n",
              "  <tbody>\n",
              "    <tr>\n",
              "      <th>0</th>\n",
              "      <td>7.0</td>\n",
              "      <td>0.27</td>\n",
              "      <td>0.36</td>\n",
              "      <td>20.7</td>\n",
              "      <td>0.045</td>\n",
              "      <td>45.0</td>\n",
              "      <td>170.0</td>\n",
              "      <td>1.0010</td>\n",
              "      <td>3.00</td>\n",
              "      <td>0.45</td>\n",
              "      <td>8.8</td>\n",
              "      <td>6</td>\n",
              "    </tr>\n",
              "    <tr>\n",
              "      <th>1</th>\n",
              "      <td>6.3</td>\n",
              "      <td>0.30</td>\n",
              "      <td>0.34</td>\n",
              "      <td>1.6</td>\n",
              "      <td>0.049</td>\n",
              "      <td>14.0</td>\n",
              "      <td>132.0</td>\n",
              "      <td>0.9940</td>\n",
              "      <td>3.30</td>\n",
              "      <td>0.49</td>\n",
              "      <td>9.5</td>\n",
              "      <td>6</td>\n",
              "    </tr>\n",
              "    <tr>\n",
              "      <th>2</th>\n",
              "      <td>8.1</td>\n",
              "      <td>0.28</td>\n",
              "      <td>0.40</td>\n",
              "      <td>6.9</td>\n",
              "      <td>0.050</td>\n",
              "      <td>30.0</td>\n",
              "      <td>97.0</td>\n",
              "      <td>0.9951</td>\n",
              "      <td>3.26</td>\n",
              "      <td>0.44</td>\n",
              "      <td>10.1</td>\n",
              "      <td>6</td>\n",
              "    </tr>\n",
              "    <tr>\n",
              "      <th>3</th>\n",
              "      <td>7.2</td>\n",
              "      <td>0.23</td>\n",
              "      <td>0.32</td>\n",
              "      <td>8.5</td>\n",
              "      <td>0.058</td>\n",
              "      <td>47.0</td>\n",
              "      <td>186.0</td>\n",
              "      <td>0.9956</td>\n",
              "      <td>3.19</td>\n",
              "      <td>0.40</td>\n",
              "      <td>9.9</td>\n",
              "      <td>6</td>\n",
              "    </tr>\n",
              "    <tr>\n",
              "      <th>4</th>\n",
              "      <td>7.2</td>\n",
              "      <td>0.23</td>\n",
              "      <td>0.32</td>\n",
              "      <td>8.5</td>\n",
              "      <td>0.058</td>\n",
              "      <td>47.0</td>\n",
              "      <td>186.0</td>\n",
              "      <td>0.9956</td>\n",
              "      <td>3.19</td>\n",
              "      <td>0.40</td>\n",
              "      <td>9.9</td>\n",
              "      <td>6</td>\n",
              "    </tr>\n",
              "  </tbody>\n",
              "</table>\n",
              "</div>\n",
              "    <div class=\"colab-df-buttons\">\n",
              "\n",
              "  <div class=\"colab-df-container\">\n",
              "    <button class=\"colab-df-convert\" onclick=\"convertToInteractive('df-8a2269f8-4f72-4290-a939-c7db465890cf')\"\n",
              "            title=\"Convert this dataframe to an interactive table.\"\n",
              "            style=\"display:none;\">\n",
              "\n",
              "  <svg xmlns=\"http://www.w3.org/2000/svg\" height=\"24px\" viewBox=\"0 -960 960 960\">\n",
              "    <path d=\"M120-120v-720h720v720H120Zm60-500h600v-160H180v160Zm220 220h160v-160H400v160Zm0 220h160v-160H400v160ZM180-400h160v-160H180v160Zm440 0h160v-160H620v160ZM180-180h160v-160H180v160Zm440 0h160v-160H620v160Z\"/>\n",
              "  </svg>\n",
              "    </button>\n",
              "\n",
              "  <style>\n",
              "    .colab-df-container {\n",
              "      display:flex;\n",
              "      gap: 12px;\n",
              "    }\n",
              "\n",
              "    .colab-df-convert {\n",
              "      background-color: #E8F0FE;\n",
              "      border: none;\n",
              "      border-radius: 50%;\n",
              "      cursor: pointer;\n",
              "      display: none;\n",
              "      fill: #1967D2;\n",
              "      height: 32px;\n",
              "      padding: 0 0 0 0;\n",
              "      width: 32px;\n",
              "    }\n",
              "\n",
              "    .colab-df-convert:hover {\n",
              "      background-color: #E2EBFA;\n",
              "      box-shadow: 0px 1px 2px rgba(60, 64, 67, 0.3), 0px 1px 3px 1px rgba(60, 64, 67, 0.15);\n",
              "      fill: #174EA6;\n",
              "    }\n",
              "\n",
              "    .colab-df-buttons div {\n",
              "      margin-bottom: 4px;\n",
              "    }\n",
              "\n",
              "    [theme=dark] .colab-df-convert {\n",
              "      background-color: #3B4455;\n",
              "      fill: #D2E3FC;\n",
              "    }\n",
              "\n",
              "    [theme=dark] .colab-df-convert:hover {\n",
              "      background-color: #434B5C;\n",
              "      box-shadow: 0px 1px 3px 1px rgba(0, 0, 0, 0.15);\n",
              "      filter: drop-shadow(0px 1px 2px rgba(0, 0, 0, 0.3));\n",
              "      fill: #FFFFFF;\n",
              "    }\n",
              "  </style>\n",
              "\n",
              "    <script>\n",
              "      const buttonEl =\n",
              "        document.querySelector('#df-8a2269f8-4f72-4290-a939-c7db465890cf button.colab-df-convert');\n",
              "      buttonEl.style.display =\n",
              "        google.colab.kernel.accessAllowed ? 'block' : 'none';\n",
              "\n",
              "      async function convertToInteractive(key) {\n",
              "        const element = document.querySelector('#df-8a2269f8-4f72-4290-a939-c7db465890cf');\n",
              "        const dataTable =\n",
              "          await google.colab.kernel.invokeFunction('convertToInteractive',\n",
              "                                                    [key], {});\n",
              "        if (!dataTable) return;\n",
              "\n",
              "        const docLinkHtml = 'Like what you see? Visit the ' +\n",
              "          '<a target=\"_blank\" href=https://colab.research.google.com/notebooks/data_table.ipynb>data table notebook</a>'\n",
              "          + ' to learn more about interactive tables.';\n",
              "        element.innerHTML = '';\n",
              "        dataTable['output_type'] = 'display_data';\n",
              "        await google.colab.output.renderOutput(dataTable, element);\n",
              "        const docLink = document.createElement('div');\n",
              "        docLink.innerHTML = docLinkHtml;\n",
              "        element.appendChild(docLink);\n",
              "      }\n",
              "    </script>\n",
              "  </div>\n",
              "\n",
              "\n",
              "    <div id=\"df-1ab35eb3-7015-442e-a6af-e4f582ef7bab\">\n",
              "      <button class=\"colab-df-quickchart\" onclick=\"quickchart('df-1ab35eb3-7015-442e-a6af-e4f582ef7bab')\"\n",
              "                title=\"Suggest charts\"\n",
              "                style=\"display:none;\">\n",
              "\n",
              "<svg xmlns=\"http://www.w3.org/2000/svg\" height=\"24px\"viewBox=\"0 0 24 24\"\n",
              "     width=\"24px\">\n",
              "    <g>\n",
              "        <path d=\"M19 3H5c-1.1 0-2 .9-2 2v14c0 1.1.9 2 2 2h14c1.1 0 2-.9 2-2V5c0-1.1-.9-2-2-2zM9 17H7v-7h2v7zm4 0h-2V7h2v10zm4 0h-2v-4h2v4z\"/>\n",
              "    </g>\n",
              "</svg>\n",
              "      </button>\n",
              "\n",
              "<style>\n",
              "  .colab-df-quickchart {\n",
              "      --bg-color: #E8F0FE;\n",
              "      --fill-color: #1967D2;\n",
              "      --hover-bg-color: #E2EBFA;\n",
              "      --hover-fill-color: #174EA6;\n",
              "      --disabled-fill-color: #AAA;\n",
              "      --disabled-bg-color: #DDD;\n",
              "  }\n",
              "\n",
              "  [theme=dark] .colab-df-quickchart {\n",
              "      --bg-color: #3B4455;\n",
              "      --fill-color: #D2E3FC;\n",
              "      --hover-bg-color: #434B5C;\n",
              "      --hover-fill-color: #FFFFFF;\n",
              "      --disabled-bg-color: #3B4455;\n",
              "      --disabled-fill-color: #666;\n",
              "  }\n",
              "\n",
              "  .colab-df-quickchart {\n",
              "    background-color: var(--bg-color);\n",
              "    border: none;\n",
              "    border-radius: 50%;\n",
              "    cursor: pointer;\n",
              "    display: none;\n",
              "    fill: var(--fill-color);\n",
              "    height: 32px;\n",
              "    padding: 0;\n",
              "    width: 32px;\n",
              "  }\n",
              "\n",
              "  .colab-df-quickchart:hover {\n",
              "    background-color: var(--hover-bg-color);\n",
              "    box-shadow: 0 1px 2px rgba(60, 64, 67, 0.3), 0 1px 3px 1px rgba(60, 64, 67, 0.15);\n",
              "    fill: var(--button-hover-fill-color);\n",
              "  }\n",
              "\n",
              "  .colab-df-quickchart-complete:disabled,\n",
              "  .colab-df-quickchart-complete:disabled:hover {\n",
              "    background-color: var(--disabled-bg-color);\n",
              "    fill: var(--disabled-fill-color);\n",
              "    box-shadow: none;\n",
              "  }\n",
              "\n",
              "  .colab-df-spinner {\n",
              "    border: 2px solid var(--fill-color);\n",
              "    border-color: transparent;\n",
              "    border-bottom-color: var(--fill-color);\n",
              "    animation:\n",
              "      spin 1s steps(1) infinite;\n",
              "  }\n",
              "\n",
              "  @keyframes spin {\n",
              "    0% {\n",
              "      border-color: transparent;\n",
              "      border-bottom-color: var(--fill-color);\n",
              "      border-left-color: var(--fill-color);\n",
              "    }\n",
              "    20% {\n",
              "      border-color: transparent;\n",
              "      border-left-color: var(--fill-color);\n",
              "      border-top-color: var(--fill-color);\n",
              "    }\n",
              "    30% {\n",
              "      border-color: transparent;\n",
              "      border-left-color: var(--fill-color);\n",
              "      border-top-color: var(--fill-color);\n",
              "      border-right-color: var(--fill-color);\n",
              "    }\n",
              "    40% {\n",
              "      border-color: transparent;\n",
              "      border-right-color: var(--fill-color);\n",
              "      border-top-color: var(--fill-color);\n",
              "    }\n",
              "    60% {\n",
              "      border-color: transparent;\n",
              "      border-right-color: var(--fill-color);\n",
              "    }\n",
              "    80% {\n",
              "      border-color: transparent;\n",
              "      border-right-color: var(--fill-color);\n",
              "      border-bottom-color: var(--fill-color);\n",
              "    }\n",
              "    90% {\n",
              "      border-color: transparent;\n",
              "      border-bottom-color: var(--fill-color);\n",
              "    }\n",
              "  }\n",
              "</style>\n",
              "\n",
              "      <script>\n",
              "        async function quickchart(key) {\n",
              "          const quickchartButtonEl =\n",
              "            document.querySelector('#' + key + ' button');\n",
              "          quickchartButtonEl.disabled = true;  // To prevent multiple clicks.\n",
              "          quickchartButtonEl.classList.add('colab-df-spinner');\n",
              "          try {\n",
              "            const charts = await google.colab.kernel.invokeFunction(\n",
              "                'suggestCharts', [key], {});\n",
              "          } catch (error) {\n",
              "            console.error('Error during call to suggestCharts:', error);\n",
              "          }\n",
              "          quickchartButtonEl.classList.remove('colab-df-spinner');\n",
              "          quickchartButtonEl.classList.add('colab-df-quickchart-complete');\n",
              "        }\n",
              "        (() => {\n",
              "          let quickchartButtonEl =\n",
              "            document.querySelector('#df-1ab35eb3-7015-442e-a6af-e4f582ef7bab button');\n",
              "          quickchartButtonEl.style.display =\n",
              "            google.colab.kernel.accessAllowed ? 'block' : 'none';\n",
              "        })();\n",
              "      </script>\n",
              "    </div>\n",
              "\n",
              "    </div>\n",
              "  </div>\n"
            ],
            "application/vnd.google.colaboratory.intrinsic+json": {
              "type": "dataframe",
              "variable_name": "data",
              "summary": "{\n  \"name\": \"data\",\n  \"rows\": 4898,\n  \"fields\": [\n    {\n      \"column\": \"fixed acidity\",\n      \"properties\": {\n        \"dtype\": \"number\",\n        \"std\": 0.8438682276875188,\n        \"min\": 3.8,\n        \"max\": 14.2,\n        \"num_unique_values\": 68,\n        \"samples\": [\n          10.3,\n          5.8,\n          6.2\n        ],\n        \"semantic_type\": \"\",\n        \"description\": \"\"\n      }\n    },\n    {\n      \"column\": \"volatile acidity\",\n      \"properties\": {\n        \"dtype\": \"number\",\n        \"std\": 0.10079454842486428,\n        \"min\": 0.08,\n        \"max\": 1.1,\n        \"num_unique_values\": 125,\n        \"samples\": [\n          0.14,\n          0.595,\n          0.13\n        ],\n        \"semantic_type\": \"\",\n        \"description\": \"\"\n      }\n    },\n    {\n      \"column\": \"citric acid\",\n      \"properties\": {\n        \"dtype\": \"number\",\n        \"std\": 0.12101980420298301,\n        \"min\": 0.0,\n        \"max\": 1.66,\n        \"num_unique_values\": 87,\n        \"samples\": [\n          0.64,\n          0.36,\n          0.24\n        ],\n        \"semantic_type\": \"\",\n        \"description\": \"\"\n      }\n    },\n    {\n      \"column\": \"residual sugar\",\n      \"properties\": {\n        \"dtype\": \"number\",\n        \"std\": 5.072057784014864,\n        \"min\": 0.6,\n        \"max\": 65.8,\n        \"num_unique_values\": 310,\n        \"samples\": [\n          15.5,\n          19.25,\n          3.3\n        ],\n        \"semantic_type\": \"\",\n        \"description\": \"\"\n      }\n    },\n    {\n      \"column\": \"chlorides\",\n      \"properties\": {\n        \"dtype\": \"number\",\n        \"std\": 0.02184796809372882,\n        \"min\": 0.009,\n        \"max\": 0.346,\n        \"num_unique_values\": 160,\n        \"samples\": [\n          0.167,\n          0.133,\n          0.015\n        ],\n        \"semantic_type\": \"\",\n        \"description\": \"\"\n      }\n    },\n    {\n      \"column\": \"free sulfur dioxide\",\n      \"properties\": {\n        \"dtype\": \"number\",\n        \"std\": 17.007137325232566,\n        \"min\": 2.0,\n        \"max\": 289.0,\n        \"num_unique_values\": 132,\n        \"samples\": [\n          24.0,\n          122.5,\n          7.0\n        ],\n        \"semantic_type\": \"\",\n        \"description\": \"\"\n      }\n    },\n    {\n      \"column\": \"total sulfur dioxide\",\n      \"properties\": {\n        \"dtype\": \"number\",\n        \"std\": 42.49806455414294,\n        \"min\": 9.0,\n        \"max\": 440.0,\n        \"num_unique_values\": 251,\n        \"samples\": [\n          260.0,\n          63.0,\n          70.0\n        ],\n        \"semantic_type\": \"\",\n        \"description\": \"\"\n      }\n    },\n    {\n      \"column\": \"density\",\n      \"properties\": {\n        \"dtype\": \"number\",\n        \"std\": 0.0029909069169369354,\n        \"min\": 0.98711,\n        \"max\": 1.03898,\n        \"num_unique_values\": 890,\n        \"samples\": [\n          0.99362,\n          0.99388,\n          0.9929\n        ],\n        \"semantic_type\": \"\",\n        \"description\": \"\"\n      }\n    },\n    {\n      \"column\": \"pH\",\n      \"properties\": {\n        \"dtype\": \"number\",\n        \"std\": 0.1510005996150667,\n        \"min\": 2.72,\n        \"max\": 3.82,\n        \"num_unique_values\": 103,\n        \"samples\": [\n          3.34,\n          3.41,\n          3.49\n        ],\n        \"semantic_type\": \"\",\n        \"description\": \"\"\n      }\n    },\n    {\n      \"column\": \"sulphates\",\n      \"properties\": {\n        \"dtype\": \"number\",\n        \"std\": 0.11412583394883138,\n        \"min\": 0.22,\n        \"max\": 1.08,\n        \"num_unique_values\": 79,\n        \"samples\": [\n          0.41,\n          0.45,\n          0.46\n        ],\n        \"semantic_type\": \"\",\n        \"description\": \"\"\n      }\n    },\n    {\n      \"column\": \"alcohol\",\n      \"properties\": {\n        \"dtype\": \"number\",\n        \"std\": 1.2306205677522648,\n        \"min\": 8.0,\n        \"max\": 14.2,\n        \"num_unique_values\": 103,\n        \"samples\": [\n          12.6,\n          11.36666667,\n          10.03333333\n        ],\n        \"semantic_type\": \"\",\n        \"description\": \"\"\n      }\n    },\n    {\n      \"column\": \"quality\",\n      \"properties\": {\n        \"dtype\": \"number\",\n        \"std\": 0,\n        \"min\": 3,\n        \"max\": 9,\n        \"num_unique_values\": 7,\n        \"samples\": [\n          6,\n          5,\n          3\n        ],\n        \"semantic_type\": \"\",\n        \"description\": \"\"\n      }\n    }\n  ]\n}"
            }
          },
          "metadata": {},
          "execution_count": 4
        }
      ]
    },
    {
      "cell_type": "code",
      "source": [
        "#Get the dimensions of the dataframe\n",
        "data.shape\n"
      ],
      "metadata": {
        "colab": {
          "base_uri": "https://localhost:8080/"
        },
        "id": "mTERmFVDTMF-",
        "outputId": "23be6832-6cdb-4531-abcd-4374c6a26e00"
      },
      "execution_count": 5,
      "outputs": [
        {
          "output_type": "execute_result",
          "data": {
            "text/plain": [
              "(4898, 12)"
            ]
          },
          "metadata": {},
          "execution_count": 5
        }
      ]
    },
    {
      "cell_type": "code",
      "source": [
        "#Get the row name of the dataframe\n",
        "data.index"
      ],
      "metadata": {
        "colab": {
          "base_uri": "https://localhost:8080/"
        },
        "id": "BRjZVUCZTSyu",
        "outputId": "674225c2-fa53-4b45-819c-de314a553153"
      },
      "execution_count": 6,
      "outputs": [
        {
          "output_type": "execute_result",
          "data": {
            "text/plain": [
              "RangeIndex(start=0, stop=4898, step=1)"
            ]
          },
          "metadata": {},
          "execution_count": 6
        }
      ]
    },
    {
      "cell_type": "code",
      "source": [
        "#Get the column name of the dataframe\n",
        "data.columns"
      ],
      "metadata": {
        "colab": {
          "base_uri": "https://localhost:8080/"
        },
        "id": "hLz97qOSTXT9",
        "outputId": "0c2b7f58-5f55-4ba1-ef44-fa76042973a9"
      },
      "execution_count": 10,
      "outputs": [
        {
          "output_type": "execute_result",
          "data": {
            "text/plain": [
              "Index(['fixed acidity', 'volatile acidity', 'citric acid', 'residual sugar',\n",
              "       'chlorides', 'free sulfur dioxide', 'total sulfur dioxide', 'density',\n",
              "       'pH', 'sulphates', 'alcohol', 'quality'],\n",
              "      dtype='object')"
            ]
          },
          "metadata": {},
          "execution_count": 10
        }
      ]
    },
    {
      "cell_type": "code",
      "source": [
        "#Look at the basic information about the dataframe\n",
        "data.info()\n"
      ],
      "metadata": {
        "colab": {
          "base_uri": "https://localhost:8080/"
        },
        "id": "XJ8IqxmbUDYM",
        "outputId": "1e1738d2-11c8-41da-d005-ab9d044d0696"
      },
      "execution_count": 11,
      "outputs": [
        {
          "output_type": "stream",
          "name": "stdout",
          "text": [
            "<class 'pandas.core.frame.DataFrame'>\n",
            "RangeIndex: 4898 entries, 0 to 4897\n",
            "Data columns (total 12 columns):\n",
            " #   Column                Non-Null Count  Dtype  \n",
            "---  ------                --------------  -----  \n",
            " 0   fixed acidity         4898 non-null   float64\n",
            " 1   volatile acidity      4898 non-null   float64\n",
            " 2   citric acid           4898 non-null   float64\n",
            " 3   residual sugar        4898 non-null   float64\n",
            " 4   chlorides             4898 non-null   float64\n",
            " 5   free sulfur dioxide   4898 non-null   float64\n",
            " 6   total sulfur dioxide  4898 non-null   float64\n",
            " 7   density               4898 non-null   float64\n",
            " 8   pH                    4898 non-null   float64\n",
            " 9   sulphates             4898 non-null   float64\n",
            " 10  alcohol               4898 non-null   float64\n",
            " 11  quality               4898 non-null   int64  \n",
            "dtypes: float64(11), int64(1)\n",
            "memory usage: 459.3 KB\n"
          ]
        }
      ]
    },
    {
      "cell_type": "markdown",
      "source": [
        "# Observations from Task 1\n",
        "\n",
        "There are 4898 rows and 12 coloumns in the data. Each row contains the details of the types of acids present in white-wine and the quality\n",
        "\n",
        "**The features in the data set are:**\n",
        " Different acids and their quality\n"
      ],
      "metadata": {
        "id": "Frocpx3VUG1W"
      }
    },
    {
      "cell_type": "markdown",
      "source": [
        "# Task 2 -\n",
        "\n",
        " View the distribution of the various features in the data set and calculate their tendancies\n",
        "\n",
        "We will now visualise the distribution of the various features in the data set\n",
        "\n",
        "We will also calculate appropriate measures of central tendency for these features\n",
        "\n"
      ],
      "metadata": {
        "id": "Zr7hgCuUUURo"
      }
    },
    {
      "cell_type": "code",
      "source": [
        "#Create a histogram of the \"Fixed acidity\" feature\n",
        "plt.figure(figsize = (11,6))\n",
        "sns.histplot(data= data, x ='fixed acidity', color ='orange',\n",
        "           edgecolor='linen', alpha =0.5, bins=5)\n",
        "plt.title(\"Histogram of Fixed acidity\")\n",
        "plt.xlabel('Fixed Acidity')\n",
        "plt.ylabel('Count')\n",
        "plt.show()\n"
      ],
      "metadata": {
        "colab": {
          "base_uri": "https://localhost:8080/",
          "height": 564
        },
        "id": "GuoxMIFTUhHp",
        "outputId": "a558b123-177d-4755-a42a-f2d227846fc7"
      },
      "execution_count": 15,
      "outputs": [
        {
          "output_type": "display_data",
          "data": {
            "text/plain": [
              "<Figure size 1100x600 with 1 Axes>"
            ],
            "image/png": "[encoded data removed]"
          },
          "metadata": {}
        }
      ]
    },
    {
      "cell_type": "markdown",
      "source": [
        "# Observations\n",
        "\n",
        "We observe that the histogram is normally distributed.\n",
        "\n",
        "The maximum count of values for fixed acidity lies in between 6 to 8.\n",
        "\n"
      ],
      "metadata": {
        "id": "Y6hGR5uAVp1f"
      }
    },
    {
      "cell_type": "code",
      "source": [
        "#Calculate the mean of \"fixed acidity\" features\n",
        "data['fixed acidity'].mean()"
      ],
      "metadata": {
        "colab": {
          "base_uri": "https://localhost:8080/"
        },
        "id": "GpISNwOmVvlV",
        "outputId": "f5e6edf6-b7b0-459c-e7f3-ec5dc255a59b"
      },
      "execution_count": 16,
      "outputs": [
        {
          "output_type": "execute_result",
          "data": {
            "text/plain": [
              "np.float64(6.854787668436097)"
            ]
          },
          "metadata": {},
          "execution_count": 16
        }
      ]
    },
    {
      "cell_type": "code",
      "source": [
        "\n",
        "#Calculate the median of \"fixed acidity\" features\n",
        "data['fixed acidity'].median()"
      ],
      "metadata": {
        "colab": {
          "base_uri": "https://localhost:8080/"
        },
        "id": "40lOeLUuV1yh",
        "outputId": "15822eee-d1f6-4acd-eeda-aecfed001348"
      },
      "execution_count": 17,
      "outputs": [
        {
          "output_type": "execute_result",
          "data": {
            "text/plain": [
              "6.8"
            ]
          },
          "metadata": {},
          "execution_count": 17
        }
      ]
    },
    {
      "cell_type": "code",
      "source": [
        "#Create a histogram of the \"Fixed acidity\" feature and also show the mean and the median\n",
        "\n",
        "plt.figure(figsize = (11,6))\n",
        "sns.histplot(data= data, x ='fixed acidity', color ='orange', edgecolor='linen', alpha =0.5, bins=5)\n",
        "plt.title(\"Histogram of Fixed acidity\")\n",
        "plt.xlabel('Fixed acidity')\n",
        "plt.ylabel('Count')\n",
        "plt.vlines(data['fixed acidity'].mean(), ymin= 0, ymax= 4000, colors='blue', label='Mean')\n",
        "plt.vlines(data['fixed acidity'].median(), ymin= 0, ymax= 4000, colors='red', label='Median')\n",
        "plt.legend()\n",
        "plt.show()\n"
      ],
      "metadata": {
        "colab": {
          "base_uri": "https://localhost:8080/",
          "height": 564
        },
        "id": "m4zQna_dV7WM",
        "outputId": "88f59fda-fd49-41e4-90b3-2c71e4b4a821"
      },
      "execution_count": 18,
      "outputs": [
        {
          "output_type": "display_data",
          "data": {
            "text/plain": [
              "<Figure size 1100x600 with 1 Axes>"
            ],
            "image/png": "[encoded data removed]"
          },
          "metadata": {}
        }
      ]
    },
    {
      "cell_type": "markdown",
      "source": [
        "# Observations\n",
        "\n",
        "We can see that mean and median are clear representative of the data.\n",
        "\n",
        "Mean and median are very close to each other.\n",
        "\n",
        "We can choose either of the parameters say mean as the measures of central tendency.\n",
        "\n"
      ],
      "metadata": {
        "id": "gOdGIAxtWSnV"
      }
    },
    {
      "cell_type": "code",
      "source": [
        "#Create a histogram of the \"Volatile acidity\" feature\n",
        "plt.figure(figsize = (11,6))\n",
        "sns.histplot(data= data, x ='volatile acidity', color ='green', edgecolor='linen', alpha =0.5, bins=5)\n",
        "plt.title(\"Histogram of Volatile acidity\")\n",
        "plt.xlabel('Volatile acidity')\n",
        "plt.ylabel('Count')\n",
        "plt.show()\n"
      ],
      "metadata": {
        "colab": {
          "base_uri": "https://localhost:8080/",
          "height": 564
        },
        "id": "vCJPjkJHWV7F",
        "outputId": "6be8cd2f-f45b-43bc-9e54-6f230b5e3fc9"
      },
      "execution_count": 20,
      "outputs": [
        {
          "output_type": "display_data",
          "data": {
            "text/plain": [
              "<Figure size 1100x600 with 1 Axes>"
            ],
            "image/png": "[encoded data removed]"
          },
          "metadata": {}
        }
      ]
    },
    {
      "cell_type": "markdown",
      "source": [
        "# Observations\n",
        "\n",
        "We observe that this histogram is not well distributed, it is skewed a little towards the right.\n",
        "\n",
        "As we have seen skewness, therefore we can check the distribution using displot function.\n",
        "\n"
      ],
      "metadata": {
        "id": "R0EvSdbaWvSp"
      }
    },
    {
      "cell_type": "code",
      "source": [
        "#plot distplot using 'volatile acidity' feature\n",
        "\n",
        "plt.figure(figsize = (11,6))\n",
        "sns.distplot(data['volatile acidity'], color='blue')\n",
        "plt.title(\"Distplot of Volatile Acidity\")\n",
        "plt.xlabel('Volatile Acidity')\n",
        "plt.ylabel('Density')\n",
        "plt.show()\n"
      ],
      "metadata": {
        "colab": {
          "base_uri": "https://localhost:8080/",
          "height": 755
        },
        "id": "2x6O1FavW3w0",
        "outputId": "e96c9cb4-4256-4567-faa4-89483046bbb2"
      },
      "execution_count": 21,
      "outputs": [
        {
          "output_type": "stream",
          "name": "stderr",
          "text": [
            "/tmp/ipython-input-1824577981.py:4: UserWarning: \n",
            "\n",
            "`distplot` is a deprecated function and will be removed in seaborn v0.14.0.\n",
            "\n",
            "Please adapt your code to use either `displot` (a figure-level function with\n",
            "similar flexibility) or `histplot` (an axes-level function for histograms).\n",
            "\n",
            "For a guide to updating your code to use the new functions, please see\n",
            "https://gist.github.com/mwaskom/de44147ed2974457ad6372750bbe5751\n",
            "\n",
            "  sns.distplot(data['volatile acidity'], color='blue')\n"
          ]
        },
        {
          "output_type": "display_data",
          "data": {
            "text/plain": [
              "<Figure size 1100x600 with 1 Axes>"
            ],
            "image/png": "[encoded data removed]"
          },
          "metadata": {}
        }
      ]
    },
    {
      "cell_type": "markdown",
      "source": [
        "# Observation:\n",
        "\n",
        "The above plot shows the normal distribution.\n",
        "\n",
        "The normal distribution is described by the mean and the standard deviation.\n",
        "\n",
        "The normal distribution is often reffered to as a 'bell curve' because of its shape\n",
        "\n",
        "The median and mean are equal\n",
        "\n",
        "It has only one mode\n",
        "\n",
        "It is symmetric, meaning it decreases the same amount on the left and the right of the centre\n",
        "\n",
        "We can calculate skewness too using skew() function in python"
      ],
      "metadata": {
        "id": "TeIPV7r9XE1V"
      }
    },
    {
      "cell_type": "code",
      "source": [
        "#calculate skewness of 'Volatile Acidity'\n",
        "data['volatile acidity'].skew()"
      ],
      "metadata": {
        "colab": {
          "base_uri": "https://localhost:8080/"
        },
        "id": "8DNBkgDAXY5y",
        "outputId": "e583c3f2-7e59-45e0-d67f-a5cf9327bb5b"
      },
      "execution_count": 23,
      "outputs": [
        {
          "output_type": "execute_result",
          "data": {
            "text/plain": [
              "np.float64(1.5769795029952025)"
            ]
          },
          "metadata": {},
          "execution_count": 23
        }
      ]
    },
    {
      "cell_type": "markdown",
      "source": [
        "\n",
        "# Observation\n",
        "\n",
        "We can clearly see that the skewness value is greater than 1, hence it is positively skewed.\n"
      ],
      "metadata": {
        "id": "d4RG7LWtXkqV"
      }
    },
    {
      "cell_type": "code",
      "source": [
        "#Calculate the mean of \"Volatile acidity\" features\n",
        "data['volatile acidity'].mean()"
      ],
      "metadata": {
        "colab": {
          "base_uri": "https://localhost:8080/"
        },
        "id": "afIXA_j3Xr0U",
        "outputId": "94f618f6-9b8d-4bdf-faa5-95a4600feb35"
      },
      "execution_count": 24,
      "outputs": [
        {
          "output_type": "execute_result",
          "data": {
            "text/plain": [
              "np.float64(0.27824111882400976)"
            ]
          },
          "metadata": {},
          "execution_count": 24
        }
      ]
    },
    {
      "cell_type": "code",
      "source": [
        "#Calculate the median of \"Volatile acidity\" features\n",
        "data['volatile acidity'].median()"
      ],
      "metadata": {
        "colab": {
          "base_uri": "https://localhost:8080/"
        },
        "id": "wc_oxbZ4Xzj2",
        "outputId": "2ee6de2b-beba-41a8-c945-5f914e425ab7"
      },
      "execution_count": 25,
      "outputs": [
        {
          "output_type": "execute_result",
          "data": {
            "text/plain": [
              "0.26"
            ]
          },
          "metadata": {},
          "execution_count": 25
        }
      ]
    },
    {
      "cell_type": "code",
      "source": [
        "\n",
        "#Create a histogram of the \"Volatile acidity\" feature and also show the mean and the median\n",
        "\n",
        "plt.figure(figsize = (11,6))\n",
        "sns.histplot(data= data, x ='volatile acidity', color ='green', edgecolor='linen', alpha =0.5, bins=5)\n",
        "plt.title(\"Histogram of Volatile acidity\")\n",
        "plt.xlabel('Volatile acidity')\n",
        "plt.ylabel('Density')\n",
        "plt.vlines(data['volatile acidity'].mean(), ymin= 0, ymax= 4000, colors='blue', label='Mean')\n",
        "plt.vlines(data['volatile acidity'].median(), ymin= 0, ymax= 4000, colors='red', label='Median')\n",
        "plt.legend()\n",
        "plt.show()"
      ],
      "metadata": {
        "colab": {
          "base_uri": "https://localhost:8080/",
          "height": 564
        },
        "id": "_VDItsUeX9qY",
        "outputId": "51180293-9624-463e-de87-ae32772c327d"
      },
      "execution_count": 27,
      "outputs": [
        {
          "output_type": "display_data",
          "data": {
            "text/plain": [
              "<Figure size 1100x600 with 1 Axes>"
            ],
            "image/png": "[encoded data removed]"
          },
          "metadata": {}
        }
      ]
    },
    {
      "cell_type": "markdown",
      "source": [
        "# Observations\n",
        "\n",
        "The mean and the median are close to each other and the difference between them is very small.\n",
        "\n",
        "We can safely choose the mean as the measure of the central tendency here.\n",
        "\n"
      ],
      "metadata": {
        "id": "O9-XLllQYQMV"
      }
    },
    {
      "cell_type": "code",
      "source": [
        "#Create a histogram of the \"Citric acidity\" feature\n",
        "\n",
        "plt.figure(figsize = (11,6))\n",
        "sns.histplot(data= data, x ='citric acid', color ='red', edgecolor='linen', alpha =0.5, bins=5)\n",
        "plt.title(\"Histogram of Citric Acidity\")\n",
        "plt.xlabel('Citric Acidity')\n",
        "plt.ylabel('Count')\n",
        "plt.show()\n"
      ],
      "metadata": {
        "colab": {
          "base_uri": "https://localhost:8080/",
          "height": 564
        },
        "id": "3r76dkakYXsu",
        "outputId": "6774cd17-b735-490f-f2cf-4d060226da8f"
      },
      "execution_count": 31,
      "outputs": [
        {
          "output_type": "display_data",
          "data": {
            "text/plain": [
              "<Figure size 1100x600 with 1 Axes>"
            ],
            "image/png": "[encoded data removed]"
          },
          "metadata": {}
        }
      ]
    },
    {
      "cell_type": "markdown",
      "source": [
        "# Observations\n",
        "\n",
        "We observe that this histogram is not well distributed, it is skewed a little towards the right."
      ],
      "metadata": {
        "id": "VHoIjX5dZp9P"
      }
    },
    {
      "cell_type": "code",
      "source": [
        "#Calculate the mean of \"Citric acidity\" features\n",
        "data['citric acid'].mean()"
      ],
      "metadata": {
        "colab": {
          "base_uri": "https://localhost:8080/"
        },
        "id": "7Z4BfTurZzQ7",
        "outputId": "11259980-70d4-42fa-b437-3a41f22b41cd"
      },
      "execution_count": 33,
      "outputs": [
        {
          "output_type": "execute_result",
          "data": {
            "text/plain": [
              "np.float64(0.33419150673744386)"
            ]
          },
          "metadata": {},
          "execution_count": 33
        }
      ]
    },
    {
      "cell_type": "code",
      "source": [
        "#Calculate the median of \"Citric acid\" features\n",
        "data['citric acid'].median()"
      ],
      "metadata": {
        "colab": {
          "base_uri": "https://localhost:8080/"
        },
        "id": "HxxLY1baaBD8",
        "outputId": "62d0a62c-f260-4c37-9775-b2284bab42ab"
      },
      "execution_count": 34,
      "outputs": [
        {
          "output_type": "execute_result",
          "data": {
            "text/plain": [
              "0.32"
            ]
          },
          "metadata": {},
          "execution_count": 34
        }
      ]
    },
    {
      "cell_type": "code",
      "source": [
        "#Create a histogram of the \"Citric acidity\" feature and also show the mean and the median\n",
        "\n",
        "plt.figure(figsize = (11,6))\n",
        "sns.histplot(data= data, x ='citric acid', color ='red', edgecolor='linen', alpha =0.5, bins=5)\n",
        "plt.title(\"Histogram of Citric acidity\")\n",
        "plt.xlabel('Citric acidity')\n",
        "plt.ylabel('Count')\n",
        "plt.vlines(data['citric acid'].mean(), ymin= 0, ymax= 4000, colors='blue', label='Mean')\n",
        "plt.vlines(data['citric acid'].median(), ymin= 0, ymax= 4000, colors='red', label='Median')\n",
        "plt.legend()\n",
        "plt.show()"
      ],
      "metadata": {
        "colab": {
          "base_uri": "https://localhost:8080/",
          "height": 564
        },
        "id": "LVhnvyfBazpJ",
        "outputId": "37715c32-fa34-4b2d-9fb9-dd28f45b60e5"
      },
      "execution_count": 35,
      "outputs": [
        {
          "output_type": "display_data",
          "data": {
            "text/plain": [
              "<Figure size 1100x600 with 1 Axes>"
            ],
            "image/png": "[encoded data removed]"
          },
          "metadata": {}
        }
      ]
    },
    {
      "cell_type": "markdown",
      "source": [
        "\n",
        "# Observation\n",
        "\n",
        "The mean and the median are close to each other and the difference between them is very small.\n",
        "\n",
        "We can safely choose the mean as the measure of the central tendency here.\n"
      ],
      "metadata": {
        "id": "2ZGS2khrbIbT"
      }
    },
    {
      "cell_type": "code",
      "source": [
        "#plot distplot using 'Citric acidity' feature\n",
        "\n",
        "plt.figure(figsize = (11,6))\n",
        "sns.distplot(data['citric acid'], color='blue')\n",
        "plt.title(\"Distplot of Citric Acidity\")\n",
        "plt.xlabel('Citric Acidity')\n",
        "plt.ylabel('Density')\n",
        "plt.show()\n"
      ],
      "metadata": {
        "colab": {
          "base_uri": "https://localhost:8080/",
          "height": 755
        },
        "id": "oEEA1qXXbOuM",
        "outputId": "0246af5c-5e71-4d36-d752-d8ceca9de215"
      },
      "execution_count": 38,
      "outputs": [
        {
          "output_type": "stream",
          "name": "stderr",
          "text": [
            "/tmp/ipython-input-1828541897.py:4: UserWarning: \n",
            "\n",
            "`distplot` is a deprecated function and will be removed in seaborn v0.14.0.\n",
            "\n",
            "Please adapt your code to use either `displot` (a figure-level function with\n",
            "similar flexibility) or `histplot` (an axes-level function for histograms).\n",
            "\n",
            "For a guide to updating your code to use the new functions, please see\n",
            "https://gist.github.com/mwaskom/de44147ed2974457ad6372750bbe5751\n",
            "\n",
            "  sns.distplot(data['citric acid'], color='blue')\n"
          ]
        },
        {
          "output_type": "display_data",
          "data": {
            "text/plain": [
              "<Figure size 1100x600 with 1 Axes>"
            ],
            "image/png": "[encoded data removed]"
          },
          "metadata": {}
        }
      ]
    },
    {
      "cell_type": "markdown",
      "source": [
        "\n",
        "Same procedure we can follow for other numerical coloumns o get the mean, median (parameters of central tendancy)"
      ],
      "metadata": {
        "id": "sjrAncqIbx5C"
      }
    },
    {
      "cell_type": "code",
      "source": [
        "#create a count plot of the \"Quality\" feature\n",
        "\n",
        "plt.figure(figsize= (11,6) )\n",
        "sns.countplot(x='quality', data=data)\n",
        "plt.title(\"Count plot of Quality\")\n",
        "plt.xlabel('Quality')\n",
        "plt.ylabel('Count')\n",
        "plt.show()\n"
      ],
      "metadata": {
        "colab": {
          "base_uri": "https://localhost:8080/",
          "height": 564
        },
        "collapsed": true,
        "id": "Pj_Y8zR1b0TH",
        "outputId": "0a8d5f27-fc96-4a19-b1ce-b9637b3d87a8"
      },
      "execution_count": 53,
      "outputs": [
        {
          "output_type": "display_data",
          "data": {
            "text/plain": [
              "<Figure size 1100x600 with 1 Axes>"
            ],
            "image/png": "[encoded data removed]"
          },
          "metadata": {}
        }
      ]
    },
    {
      "cell_type": "markdown",
      "source": [],
      "metadata": {
        "id": "-fPSeFJAdwKR"
      }
    },
    {
      "cell_type": "code",
      "source": [
        "#Count the number of occurences different categories of the \"Quality\" feature\n",
        "\n",
        "data['quality'].value_counts()\n",
        "\n"
      ],
      "metadata": {
        "colab": {
          "base_uri": "https://localhost:8080/",
          "height": 335
        },
        "id": "AxKTXDyQe79q",
        "outputId": "6f76c10a-a8d1-4017-8de3-2da799451f97"
      },
      "execution_count": 41,
      "outputs": [
        {
          "output_type": "execute_result",
          "data": {
            "text/plain": [
              "quality\n",
              "6    2198\n",
              "5    1457\n",
              "7     880\n",
              "8     175\n",
              "4     163\n",
              "3      20\n",
              "9       5\n",
              "Name: count, dtype: int64"
            ],
            "text/html": [
              "<div>\n",
              "<style scoped>\n",
              "    .dataframe tbody tr th:only-of-type {\n",
              "        vertical-align: middle;\n",
              "    }\n",
              "\n",
              "    .dataframe tbody tr th {\n",
              "        vertical-align: top;\n",
              "    }\n",
              "\n",
              "    .dataframe thead th {\n",
              "        text-align: right;\n",
              "    }\n",
              "</style>\n",
              "<table border=\"1\" class=\"dataframe\">\n",
              "  <thead>\n",
              "    <tr style=\"text-align: right;\">\n",
              "      <th></th>\n",
              "      <th>count</th>\n",
              "    </tr>\n",
              "    <tr>\n",
              "      <th>quality</th>\n",
              "      <th></th>\n",
              "    </tr>\n",
              "  </thead>\n",
              "  <tbody>\n",
              "    <tr>\n",
              "      <th>6</th>\n",
              "      <td>2198</td>\n",
              "    </tr>\n",
              "    <tr>\n",
              "      <th>5</th>\n",
              "      <td>1457</td>\n",
              "    </tr>\n",
              "    <tr>\n",
              "      <th>7</th>\n",
              "      <td>880</td>\n",
              "    </tr>\n",
              "    <tr>\n",
              "      <th>8</th>\n",
              "      <td>175</td>\n",
              "    </tr>\n",
              "    <tr>\n",
              "      <th>4</th>\n",
              "      <td>163</td>\n",
              "    </tr>\n",
              "    <tr>\n",
              "      <th>3</th>\n",
              "      <td>20</td>\n",
              "    </tr>\n",
              "    <tr>\n",
              "      <th>9</th>\n",
              "      <td>5</td>\n",
              "    </tr>\n",
              "  </tbody>\n",
              "</table>\n",
              "</div><br><label><b>dtype:</b> int64</label>"
            ]
          },
          "metadata": {},
          "execution_count": 41
        }
      ]
    },
    {
      "cell_type": "code",
      "source": [
        "#Calculate the mode of the \"Quality\" feature\n",
        "\n",
        "data['quality'].value_counts().index[0]\n"
      ],
      "metadata": {
        "colab": {
          "base_uri": "https://localhost:8080/"
        },
        "id": "k8dOQck3fCup",
        "outputId": "c3b1a758-332b-4fc9-ee46-eadc767f80b5"
      },
      "execution_count": 43,
      "outputs": [
        {
          "output_type": "execute_result",
          "data": {
            "text/plain": [
              "np.int64(6)"
            ]
          },
          "metadata": {},
          "execution_count": 43
        }
      ]
    },
    {
      "cell_type": "markdown",
      "source": [
        "# Observation from Task 2\n",
        "\n",
        "We saw the distribution of the various features in the data set using appropriate plots\n",
        "\n",
        "We calculated central tendency measures like mean, median and mode for the various features\n",
        "\n",
        "The mean and the median for all the above features were similar, so we can choose the mean in these cases\n",
        "\n",
        "The mode of the \"Quality\" features can be choosen as a representative value"
      ],
      "metadata": {
        "id": "dzWa74drf97L"
      }
    },
    {
      "cell_type": "markdown",
      "source": [
        "# Task 3 -\n",
        "\n",
        " Create a new Panda Series that contains the details of the representative factor for quality\n",
        "\n",
        "We will now create a pandas series that contains the representative values for each of the features\n"
      ],
      "metadata": {
        "id": "1ImCLqclgHNw"
      }
    },
    {
      "cell_type": "code",
      "source": [
        "#Create a new Panda Series that contains the details of the representative factor for quality for different type of acids\n",
        "\n",
        "rep_acid = pd.Series(index = ['fixed acidity', 'volatile acidity', 'citric acid', 'quality'], data= [data['fixed acidity'].mean(),data['volatile acidity'].mean(),data['citric acid'].mean(), data['quality'].value_counts().index[0]])\n",
        "\n"
      ],
      "metadata": {
        "id": "nX3wu6HqgLay"
      },
      "execution_count": 49,
      "outputs": []
    },
    {
      "cell_type": "code",
      "source": [
        "#print the rep_acid series\n",
        "\n",
        "rep_acid"
      ],
      "metadata": {
        "colab": {
          "base_uri": "https://localhost:8080/",
          "height": 209
        },
        "id": "BZ2yBRPXgwpL",
        "outputId": "f85c3651-df5c-40f7-e0fe-faaf7b5d98da"
      },
      "execution_count": 50,
      "outputs": [
        {
          "output_type": "execute_result",
          "data": {
            "text/plain": [
              "fixed acidity       6.854788\n",
              "volatile acidity    0.278241\n",
              "citric acid         0.334192\n",
              "quality             6.000000\n",
              "dtype: float64"
            ],
            "text/html": [
              "<div>\n",
              "<style scoped>\n",
              "    .dataframe tbody tr th:only-of-type {\n",
              "        vertical-align: middle;\n",
              "    }\n",
              "\n",
              "    .dataframe tbody tr th {\n",
              "        vertical-align: top;\n",
              "    }\n",
              "\n",
              "    .dataframe thead th {\n",
              "        text-align: right;\n",
              "    }\n",
              "</style>\n",
              "<table border=\"1\" class=\"dataframe\">\n",
              "  <thead>\n",
              "    <tr style=\"text-align: right;\">\n",
              "      <th></th>\n",
              "      <th>0</th>\n",
              "    </tr>\n",
              "  </thead>\n",
              "  <tbody>\n",
              "    <tr>\n",
              "      <th>fixed acidity</th>\n",
              "      <td>6.854788</td>\n",
              "    </tr>\n",
              "    <tr>\n",
              "      <th>volatile acidity</th>\n",
              "      <td>0.278241</td>\n",
              "    </tr>\n",
              "    <tr>\n",
              "      <th>citric acid</th>\n",
              "      <td>0.334192</td>\n",
              "    </tr>\n",
              "    <tr>\n",
              "      <th>quality</th>\n",
              "      <td>6.000000</td>\n",
              "    </tr>\n",
              "  </tbody>\n",
              "</table>\n",
              "</div><br><label><b>dtype:</b> float64</label>"
            ]
          },
          "metadata": {},
          "execution_count": 50
        }
      ]
    },
    {
      "cell_type": "markdown",
      "source": [
        "# Observations from Task 3\n",
        "\n",
        "**The representative acid for the quality is as follows:**\n",
        "\n",
        "The mean value of the fixed acidity would be 6.854\n",
        "\n",
        "The mean value of the volatile acidity would be 0.2782\n",
        "\n",
        "The mean value of citric acid would be 0.3341\n",
        "\n",
        "The quality would be 6"
      ],
      "metadata": {
        "id": "Yc6i13_vg48y"
      }
    },
    {
      "cell_type": "markdown",
      "source": [
        "# Final conclusion\n",
        "\n",
        "From the given data, we can use simple visualisation get a sense of how data are distributed\n",
        "\n",
        "We can use various measures of central tendancy such as mean, median, and mode to represent a group of observations\n",
        "\n",
        "The type of central tendency measure to use depends on the type and the distribution of the data\n"
      ],
      "metadata": {
        "id": "trNn_mschCpP"
      }
    }
  ]
}